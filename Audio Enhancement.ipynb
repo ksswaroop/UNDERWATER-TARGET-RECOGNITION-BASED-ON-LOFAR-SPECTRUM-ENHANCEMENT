{
 "cells": [
  {
   "cell_type": "code",
   "execution_count": null,
   "id": "bcb0cd26-08db-4f4e-8959-25db8ca959dd",
   "metadata": {},
   "outputs": [],
   "source": [
    "from create_dataset import ShipsEarDataset\n",
    "from torchvision import datasets, transforms\n",
    "import torchaudio\n",
    "from AutoEncoder import FCEDN38"
   ]
  },
  {
   "cell_type": "code",
   "execution_count": 1,
   "id": "2d21c4c9-7914-4a06-882e-49bc26f7733c",
   "metadata": {},
   "outputs": [],
   "source": [
    "ANNOTATIONS_FILE=\"./Audio_annotations.csv\"\n",
    "AUDIO_DIR=\"./Data\"\n",
    "SAMPLE_RATE=44100\n",
    "NUM_SAMPLES=5*Sfrom create_dataset import ShipsEarDataset\n",
    "from torchvision import datasets, transforms\n",
    "import torchaudioAMPLE_RATE\n",
    "BATCH_SIZE=20"
   ]
  },
  {
   "cell_type": "code",
   "execution_count": null,
   "id": "28dce35b-d230-43a8-80a1-4ffb37e6a749",
   "metadata": {},
   "outputs": [],
   "source": [
    "spectrogram = torchaudio.transforms.Spectrogram(n_fft =1024)"
   ]
  },
  {
   "cell_type": "code",
   "execution_count": null,
   "id": "46e67446-5330-4602-b7cd-3eb9ced3d577",
   "metadata": {},
   "outputs": [],
   "source": [
    "sed= ShipsEarDataset(ANNOTATIONS_FILE, AUDIO_DIR,spectrogram,SAMPLE_RATE,NUM_SAMPLES)"
   ]
  },
  {
   "cell_type": "code",
   "execution_count": null,
   "id": "ca20e9d4-e2c9-402d-88fb-195460c4e4d1",
   "metadata": {},
   "outputs": [],
   "source": [
    "val_size=int(0.1*len(sed))\n",
    "test_size=int(0.1*len(sed))"
   ]
  },
  {
   "cell_type": "code",
   "execution_count": null,
   "id": "d9b2b3ea-bb59-4080-aef9-16f86965eedf",
   "metadata": {},
   "outputs": [],
   "source": [
    "train_size= len(sed) - val_size- test_size\n",
    "train_ds, val_ds,test_ds = random_split(sed,[train_size,val_size,test_size])\n",
    "len(train_ds), len(val_ds),len(test_ds)"
   ]
  },
  {
   "cell_type": "code",
   "execution_count": null,
   "id": "cd99624c-030b-4233-88c4-ec58cd80f273",
   "metadata": {},
   "outputs": [],
   "source": [
    "device = torch.device('cuda' if torch.cuda.is_available() else 'cpu')"
   ]
  },
  {
   "cell_type": "code",
   "execution_count": null,
   "id": "16d0d3b2-753c-42f9-a65f-db32f57991ab",
   "metadata": {},
   "outputs": [],
   "source": [
    "train_dl=DataLoader(train_ds, \n",
    "                    batch_size=BATCH_SIZE, \n",
    "                    shuffle=True,\n",
    "                    num_workers=8, \n",
    "                    pin_memory=True\n",
    "                   )\n",
    "val_dl=DataLoader(val_ds,\n",
    "                  batch_size=BATCH_SIZE,\n",
    "                  num_workers=8,\n",
    "                  pin_memory=True\n",
    "                 )\n",
    "test_dl=DataLoader(test_ds,\n",
    "                  batch_size=BATCH_SIZE,\n",
    "                  num_workers=8,\n",
    "                  pin_memory=True\n",
    "                 )"
   ]
  },
  {
   "cell_type": "code",
   "execution_count": null,
   "id": "49688a8f-9c62-4b2f-bec6-7f6d1bdb38c5",
   "metadata": {},
   "outputs": [],
   "source": [
    "def train_model(model, train_loader, num_epochs=20, learning_rate=0.001):\n",
    "    criterion = nn.MSELoss()\n",
    "    optimizer = optim.Adam(model.parameters(), lr=learning_rate)\n",
    "\n",
    "    for epoch in range(num_epochs):\n",
    "        for signal,targets in train_loader:\n",
    "            inputs = signal\n",
    "            #inputs, targets = inputs.to(device), targets.to(device)\n",
    "\n",
    "            optimizer.zero_grad()\n",
    "            outputs = model(inputs)\n",
    "            loss = criterion(outputs, targets)\n",
    "            loss.backward()\n",
    "            optimizer.step()\n",
    "\n",
    "        print(f'Epoch [{epoch+1}/{num_epochs}], Loss: {loss.item():.4f}')\n"
   ]
  },
  {
   "cell_type": "code",
   "execution_count": null,
   "id": "91c45389-875e-4aa2-ac7f-b4f1f6db0c8f",
   "metadata": {},
   "outputs": [],
   "source": [
    "model=FCEDN38()"
   ]
  },
  {
   "cell_type": "code",
   "execution_count": null,
   "id": "7a854e0d-6332-44c8-9381-b55c9f6773a2",
   "metadata": {},
   "outputs": [],
   "source": [
    "train_dataloader= DeviceDataLoader(train_dl,device)\n",
    "val_dataloader= DeviceDataLoader(val_dl,device)\n",
    "test_dataloader= DeviceDataLoader(test_dl,device)\n",
    "#to_device(model,device)\n",
    "model=model.to(device)"
   ]
  },
  {
   "cell_type": "code",
   "execution_count": null,
   "id": "93822557-e9bd-4021-8d3e-7030f1ec9559",
   "metadata": {},
   "outputs": [],
   "source": [
    "train_model(model, train_dataloader)"
   ]
  }
 ],
 "metadata": {
  "kernelspec": {
   "display_name": "Python 3.11 (torch)",
   "language": "python",
   "name": "pytorch"
  },
  "language_info": {
   "codemirror_mode": {
    "name": "ipython",
    "version": 3
   },
   "file_extension": ".py",
   "mimetype": "text/x-python",
   "name": "python",
   "nbconvert_exporter": "python",
   "pygments_lexer": "ipython3",
   "version": "3.11.9"
  }
 },
 "nbformat": 4,
 "nbformat_minor": 5
}
